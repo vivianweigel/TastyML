{
 "cells": [
  {
   "metadata": {},
   "cell_type": "markdown",
   "source": "### MLP",
   "id": "bba7b9a74da7fd0b"
  },
  {
   "metadata": {
    "ExecuteTime": {
     "end_time": "2025-04-02T15:35:41.931517Z",
     "start_time": "2025-04-02T15:35:41.248907Z"
    }
   },
   "cell_type": "code",
   "source": [
    "import pandas as pd\n",
    "import torch\n",
    "import torch.nn as nn\n",
    "from torch.utils.data import Dataset, DataLoader\n",
    "from sklearn.preprocessing import LabelEncoder\n",
    "from sklearn.model_selection import train_test_split\n",
    "from sklearn.feature_extraction.text import TfidfVectorizer\n",
    "from sklearn.preprocessing import StandardScaler\n",
    "import numpy as np\n",
    "import matplotlib.pyplot as plt\n",
    "import seaborn as sns"
   ],
   "id": "cb6f70b7cc0452d8",
   "outputs": [],
   "execution_count": 1
  },
  {
   "metadata": {},
   "cell_type": "markdown",
   "source": "### Load and Clean Data",
   "id": "c940e655c41398ee"
  },
  {
   "metadata": {
    "ExecuteTime": {
     "end_time": "2025-04-02T15:35:41.981427Z",
     "start_time": "2025-04-02T15:35:41.936546Z"
    }
   },
   "cell_type": "code",
   "source": [
    "df = pd.read_csv('recipe_review_data.csv')\n",
    "print(df.head())"
   ],
   "id": "1042c4e8e4a79127",
   "outputs": [
    {
     "name": "stdout",
     "output_type": "stream",
     "text": [
      "   Unnamed: 0  recipe_number  recipe_code         recipe_name  \\\n",
      "0           0              1        14299  Creamy White Chili   \n",
      "1           1              1        14299  Creamy White Chili   \n",
      "2           2              1        14299  Creamy White Chili   \n",
      "3           3              1        14299  Creamy White Chili   \n",
      "4           4              1        14299  Creamy White Chili   \n",
      "\n",
      "                                        comment_id         user_id  \\\n",
      "0  sp_aUSaElGf_14299_c_2G3aneMRgRMZwXqIHmSdXSG1hEM  u_9iFLIhMa8QaG   \n",
      "1  sp_aUSaElGf_14299_c_2FsPC83HtzCsQAtOxlbL6RcaPbY  u_Lu6p25tmE77j   \n",
      "2  sp_aUSaElGf_14299_c_2FPrSGyTv7PQkZq37j92r9mYGkP  u_s0LwgpZ8Jsqq   \n",
      "3  sp_aUSaElGf_14299_c_2DzdSIgV9qNiuBaLoZ7JQaartoC  u_fqrybAdYjgjG   \n",
      "4  sp_aUSaElGf_14299_c_2DtZJuRQYeTFwXBoZRfRhBPEXjI  u_XXWKwVhKZD69   \n",
      "\n",
      "    user_name  user_reputation  created_at  reply_count  thumbs_up  \\\n",
      "0     Jeri326                1  1665619889            0          0   \n",
      "1     Mark467               50  1665277687            0          7   \n",
      "2  Barbara566               10  1664404557            0          3   \n",
      "3  jeansch123                1  1661787808            2          2   \n",
      "4    camper77               10  1664913823            1          7   \n",
      "\n",
      "   thumbs_down  stars  best_score  \\\n",
      "0            0      5         527   \n",
      "1            0      5         724   \n",
      "2            0      5         710   \n",
      "3            0      0         581   \n",
      "4            0      0         820   \n",
      "\n",
      "                                                text  \n",
      "0  I tweaked it a little, removed onions because ...  \n",
      "1  Bush used to have a white chili bean and it ma...  \n",
      "2  I have a very complicated white chicken chili ...  \n",
      "3  In your introduction, you mentioned cream chee...  \n",
      "4  Wonderful! I made this for a &#34;Chili/Stew&#...  \n"
     ]
    }
   ],
   "execution_count": 2
  },
  {
   "metadata": {
    "ExecuteTime": {
     "end_time": "2025-04-02T15:35:42.269672Z",
     "start_time": "2025-04-02T15:35:42.059687Z"
    }
   },
   "cell_type": "code",
   "source": [
    "# Drop missing values\n",
    "df = df[['user_id', 'recipe_code', 'user_reputation', 'thumbs_up', 'thumbs_down', 'stars', 'text']].dropna()\n",
    "\n",
    "# Encode user_id and recipe_code\n",
    "user_encoder = LabelEncoder()\n",
    "recipe_encoder = LabelEncoder()\n",
    "df['user_id_enc'] = user_encoder.fit_transform(df['user_id'])\n",
    "df['recipe_code_enc'] = recipe_encoder.fit_transform(df['recipe_code'])\n",
    "\n",
    "# Fill empty reviews with empty string\n",
    "df['text'] = df['text'].fillna(\"\")\n",
    "\n",
    "# text analysis set up\n",
    "vectorizer = TfidfVectorizer(max_features=300)\n",
    "text_features = vectorizer.fit_transform(df['text']).toarray()\n",
    "\n",
    "# Normalize numeric features\n",
    "scaler = StandardScaler()\n",
    "X_numeric = scaler.fit_transform(df[['user_reputation', 'thumbs_up', 'thumbs_down']])\n",
    "\n",
    "X_ids = df[['user_id_enc', 'recipe_code_enc']].values\n",
    "X_all = np.hstack([X_ids, X_numeric, text_features])\n",
    "\n",
    "# Set stars as float\n",
    "y = df['stars'].astype(float).values"
   ],
   "id": "facb5dfb92c6f192",
   "outputs": [],
   "execution_count": 3
  },
  {
   "metadata": {
    "ExecuteTime": {
     "end_time": "2025-04-02T15:35:42.286043Z",
     "start_time": "2025-04-02T15:35:42.272614Z"
    }
   },
   "cell_type": "code",
   "source": [
    "# Train/test split\n",
    "X_train, X_test, y_train, y_test = train_test_split(X_all, y, test_size=0.2, random_state=42)\n",
    "\n",
    "class RecipeDataset(Dataset):\n",
    "    def __init__(self, X, y):\n",
    "        self.X = torch.tensor(X, dtype=torch.float32)\n",
    "        self.y = torch.tensor(y, dtype=torch.float32)\n",
    "\n",
    "    def __len__(self):\n",
    "        return len(self.y)\n",
    "\n",
    "    def __getitem__(self, idx):\n",
    "        return self.X[idx], self.y[idx]\n",
    "\n",
    "train_dataset = RecipeDataset(X_train, y_train)\n",
    "test_dataset = RecipeDataset(X_test, y_test)\n",
    "\n",
    "train_loader = DataLoader(train_dataset, batch_size=64, shuffle=True)\n",
    "test_loader = DataLoader(test_dataset, batch_size=64)"
   ],
   "id": "f3cab8b429d7b782",
   "outputs": [],
   "execution_count": 4
  },
  {
   "metadata": {},
   "cell_type": "markdown",
   "source": "### Model Setup and Training",
   "id": "771eb5e928c05fe1"
  },
  {
   "metadata": {
    "ExecuteTime": {
     "end_time": "2025-04-02T15:35:58.512107Z",
     "start_time": "2025-04-02T15:35:58.509410Z"
    }
   },
   "cell_type": "code",
   "source": [
    "class MLP(nn.Module):\n",
    "    def __init__(self, input_dim):\n",
    "        super().__init__()\n",
    "        self.model = nn.Sequential(\n",
    "            nn.Linear(input_dim, 64),\n",
    "            nn.Dropout(0.2),\n",
    "            nn.Linear(64, 32),\n",
    "            nn.Linear(32, 1),\n",
    "            nn.ReLU(),\n",
    "        )\n",
    "\n",
    "    def forward(self, x):\n",
    "        return self.model(x).squeeze(1)\n",
    "\n",
    "input_dim = X_all.shape[1]\n",
    "model = MLP(input_dim)"
   ],
   "id": "11becc9dd42ecd2f",
   "outputs": [],
   "execution_count": 7
  },
  {
   "metadata": {
    "ExecuteTime": {
     "end_time": "2025-04-02T15:36:08.849123Z",
     "start_time": "2025-04-02T15:36:00.326649Z"
    }
   },
   "cell_type": "code",
   "source": [
    "# Loss and optimizer\n",
    "criterion = nn.MSELoss()\n",
    "optimizer = torch.optim.Adam(model.parameters(), lr=1e-3)\n",
    "\n",
    "# Training loop\n",
    "n_epochs = 100\n",
    "train_losses = []\n",
    "test_losses = []\n",
    "\n",
    "for epoch in range(n_epochs):\n",
    "    model.train()\n",
    "    epoch_loss = 0\n",
    "    for batch_X, batch_y in train_loader:\n",
    "        optimizer.zero_grad()\n",
    "        preds = model(batch_X)\n",
    "        loss = criterion(preds, batch_y)\n",
    "        loss.backward()\n",
    "        optimizer.step()\n",
    "        epoch_loss += loss.item()\n",
    "\n",
    "    avg_train_loss = epoch_loss / len(train_loader)\n",
    "    train_losses.append(avg_train_loss)\n",
    "\n",
    "    # Evaluate on test set\n",
    "    model.eval()\n",
    "    test_loss = 0\n",
    "    with torch.no_grad():\n",
    "        for batch_X, batch_y in test_loader:\n",
    "            preds = model(batch_X)\n",
    "            loss = criterion(preds, batch_y)\n",
    "            test_loss += loss.item()\n",
    "    avg_test_loss = test_loss / len(test_loader)\n",
    "    test_losses.append(avg_test_loss)\n",
    "\n",
    "    print(f\"Epoch {epoch+1}/{n_epochs} - Train Loss: {avg_train_loss:.4f}, Test Loss: {avg_test_loss:.4f}\")\n"
   ],
   "id": "9612b979947b11c9",
   "outputs": [
    {
     "name": "stdout",
     "output_type": "stream",
     "text": [
      "Epoch 1/100 - Train Loss: 20.8444, Test Loss: 19.9778\n",
      "Epoch 2/100 - Train Loss: 20.3312, Test Loss: 20.2214\n",
      "Epoch 3/100 - Train Loss: 19.9477, Test Loss: 20.5671\n",
      "Epoch 4/100 - Train Loss: 20.5358, Test Loss: 20.5081\n",
      "Epoch 5/100 - Train Loss: 20.3668, Test Loss: 19.9676\n",
      "Epoch 6/100 - Train Loss: 20.4602, Test Loss: 20.6015\n",
      "Epoch 7/100 - Train Loss: 20.6021, Test Loss: 20.5695\n",
      "Epoch 8/100 - Train Loss: 20.5564, Test Loss: 20.5540\n",
      "Epoch 9/100 - Train Loss: 20.5095, Test Loss: 20.5166\n",
      "Epoch 10/100 - Train Loss: 20.4302, Test Loss: 20.3507\n",
      "Epoch 11/100 - Train Loss: 20.3459, Test Loss: 20.4950\n",
      "Epoch 12/100 - Train Loss: 20.4064, Test Loss: 20.4131\n",
      "Epoch 13/100 - Train Loss: 20.0274, Test Loss: 20.1653\n",
      "Epoch 14/100 - Train Loss: 19.5757, Test Loss: 19.7197\n",
      "Epoch 15/100 - Train Loss: 19.0720, Test Loss: 19.3195\n",
      "Epoch 16/100 - Train Loss: 9.3501, Test Loss: 3.3572\n",
      "Epoch 17/100 - Train Loss: 3.1256, Test Loss: 2.8842\n",
      "Epoch 18/100 - Train Loss: 2.9074, Test Loss: 2.4398\n",
      "Epoch 19/100 - Train Loss: 2.7292, Test Loss: 2.3847\n",
      "Epoch 20/100 - Train Loss: 2.5337, Test Loss: 2.3119\n",
      "Epoch 21/100 - Train Loss: 2.4457, Test Loss: 2.2802\n",
      "Epoch 22/100 - Train Loss: 2.4290, Test Loss: 2.2551\n",
      "Epoch 23/100 - Train Loss: 2.3327, Test Loss: 2.2711\n",
      "Epoch 24/100 - Train Loss: 2.3645, Test Loss: 2.2498\n",
      "Epoch 25/100 - Train Loss: 2.3374, Test Loss: 2.2383\n",
      "Epoch 26/100 - Train Loss: 2.3254, Test Loss: 2.1951\n",
      "Epoch 27/100 - Train Loss: 2.3094, Test Loss: 2.2650\n",
      "Epoch 28/100 - Train Loss: 2.2998, Test Loss: 2.2255\n",
      "Epoch 29/100 - Train Loss: 2.2843, Test Loss: 2.3240\n",
      "Epoch 30/100 - Train Loss: 2.3111, Test Loss: 2.2095\n",
      "Epoch 31/100 - Train Loss: 2.2789, Test Loss: 2.1792\n",
      "Epoch 32/100 - Train Loss: 2.3119, Test Loss: 2.2287\n",
      "Epoch 33/100 - Train Loss: 2.2944, Test Loss: 2.3094\n",
      "Epoch 34/100 - Train Loss: 2.2671, Test Loss: 2.2343\n",
      "Epoch 35/100 - Train Loss: 2.2827, Test Loss: 2.5209\n",
      "Epoch 36/100 - Train Loss: 2.3041, Test Loss: 2.2257\n",
      "Epoch 37/100 - Train Loss: 2.2599, Test Loss: 2.1499\n",
      "Epoch 38/100 - Train Loss: 2.2679, Test Loss: 2.1294\n",
      "Epoch 39/100 - Train Loss: 2.2879, Test Loss: 2.1373\n",
      "Epoch 40/100 - Train Loss: 2.2565, Test Loss: 2.0924\n",
      "Epoch 41/100 - Train Loss: 2.2487, Test Loss: 2.1379\n",
      "Epoch 42/100 - Train Loss: 2.2883, Test Loss: 2.1774\n",
      "Epoch 43/100 - Train Loss: 2.2092, Test Loss: 2.1442\n",
      "Epoch 44/100 - Train Loss: 2.2169, Test Loss: 2.1611\n",
      "Epoch 45/100 - Train Loss: 2.2605, Test Loss: 2.6762\n",
      "Epoch 46/100 - Train Loss: 2.2883, Test Loss: 2.3189\n",
      "Epoch 47/100 - Train Loss: 2.2018, Test Loss: 2.0642\n",
      "Epoch 48/100 - Train Loss: 2.2292, Test Loss: 2.1040\n",
      "Epoch 49/100 - Train Loss: 2.2284, Test Loss: 2.1337\n",
      "Epoch 50/100 - Train Loss: 2.2076, Test Loss: 2.3884\n",
      "Epoch 51/100 - Train Loss: 2.1929, Test Loss: 2.1536\n",
      "Epoch 52/100 - Train Loss: 2.1625, Test Loss: 2.0801\n",
      "Epoch 53/100 - Train Loss: 2.2406, Test Loss: 2.2533\n",
      "Epoch 54/100 - Train Loss: 2.1700, Test Loss: 2.2551\n",
      "Epoch 55/100 - Train Loss: 2.1982, Test Loss: 2.0963\n",
      "Epoch 56/100 - Train Loss: 2.2055, Test Loss: 2.2122\n",
      "Epoch 57/100 - Train Loss: 2.2276, Test Loss: 2.4751\n",
      "Epoch 58/100 - Train Loss: 2.1951, Test Loss: 2.0647\n",
      "Epoch 59/100 - Train Loss: 2.1855, Test Loss: 2.1502\n",
      "Epoch 60/100 - Train Loss: 2.1776, Test Loss: 2.4836\n",
      "Epoch 61/100 - Train Loss: 2.1942, Test Loss: 2.1369\n",
      "Epoch 62/100 - Train Loss: 2.2076, Test Loss: 2.1070\n",
      "Epoch 63/100 - Train Loss: 2.1371, Test Loss: 2.0485\n",
      "Epoch 64/100 - Train Loss: 2.1932, Test Loss: 2.1581\n",
      "Epoch 65/100 - Train Loss: 2.1967, Test Loss: 2.2293\n",
      "Epoch 66/100 - Train Loss: 2.1500, Test Loss: 2.0282\n",
      "Epoch 67/100 - Train Loss: 2.2045, Test Loss: 2.0830\n",
      "Epoch 68/100 - Train Loss: 2.1369, Test Loss: 2.0386\n",
      "Epoch 69/100 - Train Loss: 2.1728, Test Loss: 2.3258\n",
      "Epoch 70/100 - Train Loss: 2.1599, Test Loss: 2.1308\n",
      "Epoch 71/100 - Train Loss: 2.1241, Test Loss: 2.0561\n",
      "Epoch 72/100 - Train Loss: 2.1850, Test Loss: 2.0774\n",
      "Epoch 73/100 - Train Loss: 2.1500, Test Loss: 2.1041\n",
      "Epoch 74/100 - Train Loss: 2.1796, Test Loss: 2.0387\n",
      "Epoch 75/100 - Train Loss: 2.1877, Test Loss: 2.1114\n",
      "Epoch 76/100 - Train Loss: 2.1658, Test Loss: 2.1245\n",
      "Epoch 77/100 - Train Loss: 2.1445, Test Loss: 2.1475\n",
      "Epoch 78/100 - Train Loss: 2.1570, Test Loss: 2.0663\n",
      "Epoch 79/100 - Train Loss: 2.1796, Test Loss: 2.4296\n",
      "Epoch 80/100 - Train Loss: 2.1338, Test Loss: 2.2244\n",
      "Epoch 81/100 - Train Loss: 2.1350, Test Loss: 2.0692\n",
      "Epoch 82/100 - Train Loss: 2.1008, Test Loss: 2.1032\n",
      "Epoch 83/100 - Train Loss: 2.1382, Test Loss: 2.0190\n",
      "Epoch 84/100 - Train Loss: 2.1472, Test Loss: 2.1250\n",
      "Epoch 85/100 - Train Loss: 2.1270, Test Loss: 2.0516\n",
      "Epoch 86/100 - Train Loss: 2.1160, Test Loss: 2.3040\n",
      "Epoch 87/100 - Train Loss: 2.1434, Test Loss: 2.1350\n",
      "Epoch 88/100 - Train Loss: 2.1276, Test Loss: 2.1521\n",
      "Epoch 89/100 - Train Loss: 2.1044, Test Loss: 2.0480\n",
      "Epoch 90/100 - Train Loss: 2.0919, Test Loss: 2.1963\n",
      "Epoch 91/100 - Train Loss: 2.1996, Test Loss: 2.0586\n",
      "Epoch 92/100 - Train Loss: 2.1100, Test Loss: 2.0345\n",
      "Epoch 93/100 - Train Loss: 2.1338, Test Loss: 2.3762\n",
      "Epoch 94/100 - Train Loss: 2.1398, Test Loss: 2.0305\n",
      "Epoch 95/100 - Train Loss: 2.0811, Test Loss: 2.0371\n",
      "Epoch 96/100 - Train Loss: 2.1394, Test Loss: 2.1362\n",
      "Epoch 97/100 - Train Loss: 2.1719, Test Loss: 2.2344\n",
      "Epoch 98/100 - Train Loss: 2.1219, Test Loss: 2.0449\n",
      "Epoch 99/100 - Train Loss: 2.1364, Test Loss: 2.1155\n",
      "Epoch 100/100 - Train Loss: 2.1131, Test Loss: 2.0773\n"
     ]
    }
   ],
   "execution_count": 8
  },
  {
   "metadata": {},
   "cell_type": "markdown",
   "source": "### Evaluation",
   "id": "1dc11327be7c4dfa"
  },
  {
   "metadata": {
    "ExecuteTime": {
     "end_time": "2025-04-02T15:36:12.477902Z",
     "start_time": "2025-04-02T15:36:12.408352Z"
    }
   },
   "cell_type": "code",
   "source": [
    "plt.figure(figsize=(8, 5))\n",
    "plt.plot(train_losses, label=\"Train Loss\")\n",
    "plt.plot(test_losses, label=\"Test Loss\")\n",
    "plt.xlabel(\"Epoch\")\n",
    "plt.ylabel(\"MSE Loss\")\n",
    "plt.title(\"Training and Test Loss Over Epochs\")\n",
    "plt.legend()\n",
    "plt.grid(True)\n",
    "plt.tight_layout()\n",
    "plt.show()"
   ],
   "id": "913ff8eaa6654591",
   "outputs": [
    {
     "data": {
      "text/plain": [
       "<Figure size 800x500 with 1 Axes>"
      ],
      "image/png": "[encoded data removed]"
     },
     "metadata": {},
     "output_type": "display_data"
    }
   ],
   "execution_count": 9
  }
 ],
 "metadata": {
  "kernelspec": {
   "display_name": "Python 3",
   "language": "python",
   "name": "python3"
  },
  "language_info": {
   "codemirror_mode": {
    "name": "ipython",
    "version": 2
   },
   "file_extension": ".py",
   "mimetype": "text/x-python",
   "name": "python",
   "nbconvert_exporter": "python",
   "pygments_lexer": "ipython2",
   "version": "2.7.6"
  }
 },
 "nbformat": 4,
 "nbformat_minor": 5
}
