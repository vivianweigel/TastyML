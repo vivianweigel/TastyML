{
 "cells": [
  {
   "metadata": {},
   "cell_type": "markdown",
   "source": [
    "## MLP Version 2\n",
    "\n",
    "Final Version!\n",
    "\n",
    "This version is modeled off of collaborative filtering methodology. It simply takes in user_id and recipe_code in order to predict stars. The ids go through embedding layers in order for the model to learn their relationship."
   ],
   "id": "dee16f9af776bf0f"
  },
  {
   "metadata": {
    "ExecuteTime": {
     "end_time": "2025-04-09T21:28:38.277710Z",
     "start_time": "2025-04-09T21:28:38.274670Z"
    }
   },
   "cell_type": "code",
   "source": [
    "import numpy as np\n",
    "import pandas as pd\n",
    "from sklearn.model_selection import train_test_split\n",
    "\n",
    "import torch\n",
    "import torch.nn as nn\n",
    "import torch.optim as optim\n",
    "from torch.utils.data import Dataset, DataLoader\n",
    "import matplotlib.pyplot as plt\n",
    "import seaborn as sns"
   ],
   "id": "cd5388938a2caf4c",
   "outputs": [],
   "execution_count": 275
  },
  {
   "metadata": {},
   "cell_type": "markdown",
   "source": "### Data Processing",
   "id": "8933826c9da66906"
  },
  {
   "metadata": {
    "ExecuteTime": {
     "end_time": "2025-04-09T21:28:38.356621Z",
     "start_time": "2025-04-09T21:28:38.288549Z"
    }
   },
   "cell_type": "code",
   "source": [
    "# Load the data from CSV\n",
    "df = pd.read_csv(\"recipe_review_data.csv\")\n",
    "\n",
    "# Count reviews per user\n",
    "review_counts = df.groupby('user_id').size()\n",
    "# Get user_ids with more than 5 reviews or 10 reviews\n",
    "users_over_5 = review_counts[review_counts >= 5].index\n",
    "# Filter the DataFrame to include only these users\n",
    "df = df[df['user_id'].isin(users_over_5)]\n",
    "print(\"Data preview:\")\n",
    "df.head()"
   ],
   "id": "4209cab47c5903cc",
   "outputs": [
    {
     "name": "stdout",
     "output_type": "stream",
     "text": [
      "Data preview:\n"
     ]
    },
    {
     "data": {
      "text/plain": [
       "    Unnamed: 0  recipe_number  recipe_code         recipe_name  \\\n",
       "27          27              1        14299  Creamy White Chili   \n",
       "31          31              1        14299  Creamy White Chili   \n",
       "50          50              1        14299  Creamy White Chili   \n",
       "56          56              1        14299  Creamy White Chili   \n",
       "79          79              1        14299  Creamy White Chili   \n",
       "\n",
       "                    comment_id                        user_id     user_name  \\\n",
       "27  sp_aUSaElGf_14299_c_432496  u_1oKVZT7bnHOk8MH7Aom0wkTCJNo         ahmom   \n",
       "31  sp_aUSaElGf_14299_c_429113  u_1oKVr0FIiKTNe84vUuYXGEKMHfD      gooch621   \n",
       "50  sp_aUSaElGf_14299_c_425025  u_1oKVguRYSeYopnS8TJesoAeBEsd  dylan's mama   \n",
       "56  sp_aUSaElGf_14299_c_384535  u_1oKWWgyoJAqNhh1VGGmFPp24Au9     mrscessna   \n",
       "79  sp_aUSaElGf_14299_c_424088  u_1oKVchl3LINh51liAWR6aZjJEqJ      jeanemed   \n",
       "\n",
       "    user_reputation  created_at  reply_count  thumbs_up  thumbs_down  stars  \\\n",
       "27                1  1622648873            0          4            0      5   \n",
       "31                1  1622648882            0          3            0      5   \n",
       "50                1  1622718462            0          9            0      5   \n",
       "56                1  1622718272            0          0            0      4   \n",
       "79               20  1622718447            0          0            0      5   \n",
       "\n",
       "    best_score                                               text  \n",
       "27         329  EXCELLENT RECIPE!! This will be on regular rot...  \n",
       "31         297                    Outstanding just the way it is!  \n",
       "50         415  We have been making this for years now and its...  \n",
       "56         100                                    Easy and tasty!  \n",
       "79         100  Very good. I wonder if it once had cream chees...  "
      ],
      "text/html": [
       "<div>\n",
       "<style scoped>\n",
       "    .dataframe tbody tr th:only-of-type {\n",
       "        vertical-align: middle;\n",
       "    }\n",
       "\n",
       "    .dataframe tbody tr th {\n",
       "        vertical-align: top;\n",
       "    }\n",
       "\n",
       "    .dataframe thead th {\n",
       "        text-align: right;\n",
       "    }\n",
       "</style>\n",
       "<table border=\"1\" class=\"dataframe\">\n",
       "  <thead>\n",
       "    <tr style=\"text-align: right;\">\n",
       "      <th></th>\n",
       "      <th>Unnamed: 0</th>\n",
       "      <th>recipe_number</th>\n",
       "      <th>recipe_code</th>\n",
       "      <th>recipe_name</th>\n",
       "      <th>comment_id</th>\n",
       "      <th>user_id</th>\n",
       "      <th>user_name</th>\n",
       "      <th>user_reputation</th>\n",
       "      <th>created_at</th>\n",
       "      <th>reply_count</th>\n",
       "      <th>thumbs_up</th>\n",
       "      <th>thumbs_down</th>\n",
       "      <th>stars</th>\n",
       "      <th>best_score</th>\n",
       "      <th>text</th>\n",
       "    </tr>\n",
       "  </thead>\n",
       "  <tbody>\n",
       "    <tr>\n",
       "      <th>27</th>\n",
       "      <td>27</td>\n",
       "      <td>1</td>\n",
       "      <td>14299</td>\n",
       "      <td>Creamy White Chili</td>\n",
       "      <td>sp_aUSaElGf_14299_c_432496</td>\n",
       "      <td>u_1oKVZT7bnHOk8MH7Aom0wkTCJNo</td>\n",
       "      <td>ahmom</td>\n",
       "      <td>1</td>\n",
       "      <td>1622648873</td>\n",
       "      <td>0</td>\n",
       "      <td>4</td>\n",
       "      <td>0</td>\n",
       "      <td>5</td>\n",
       "      <td>329</td>\n",
       "      <td>EXCELLENT RECIPE!! This will be on regular rot...</td>\n",
       "    </tr>\n",
       "    <tr>\n",
       "      <th>31</th>\n",
       "      <td>31</td>\n",
       "      <td>1</td>\n",
       "      <td>14299</td>\n",
       "      <td>Creamy White Chili</td>\n",
       "      <td>sp_aUSaElGf_14299_c_429113</td>\n",
       "      <td>u_1oKVr0FIiKTNe84vUuYXGEKMHfD</td>\n",
       "      <td>gooch621</td>\n",
       "      <td>1</td>\n",
       "      <td>1622648882</td>\n",
       "      <td>0</td>\n",
       "      <td>3</td>\n",
       "      <td>0</td>\n",
       "      <td>5</td>\n",
       "      <td>297</td>\n",
       "      <td>Outstanding just the way it is!</td>\n",
       "    </tr>\n",
       "    <tr>\n",
       "      <th>50</th>\n",
       "      <td>50</td>\n",
       "      <td>1</td>\n",
       "      <td>14299</td>\n",
       "      <td>Creamy White Chili</td>\n",
       "      <td>sp_aUSaElGf_14299_c_425025</td>\n",
       "      <td>u_1oKVguRYSeYopnS8TJesoAeBEsd</td>\n",
       "      <td>dylan's mama</td>\n",
       "      <td>1</td>\n",
       "      <td>1622718462</td>\n",
       "      <td>0</td>\n",
       "      <td>9</td>\n",
       "      <td>0</td>\n",
       "      <td>5</td>\n",
       "      <td>415</td>\n",
       "      <td>We have been making this for years now and its...</td>\n",
       "    </tr>\n",
       "    <tr>\n",
       "      <th>56</th>\n",
       "      <td>56</td>\n",
       "      <td>1</td>\n",
       "      <td>14299</td>\n",
       "      <td>Creamy White Chili</td>\n",
       "      <td>sp_aUSaElGf_14299_c_384535</td>\n",
       "      <td>u_1oKWWgyoJAqNhh1VGGmFPp24Au9</td>\n",
       "      <td>mrscessna</td>\n",
       "      <td>1</td>\n",
       "      <td>1622718272</td>\n",
       "      <td>0</td>\n",
       "      <td>0</td>\n",
       "      <td>0</td>\n",
       "      <td>4</td>\n",
       "      <td>100</td>\n",
       "      <td>Easy and tasty!</td>\n",
       "    </tr>\n",
       "    <tr>\n",
       "      <th>79</th>\n",
       "      <td>79</td>\n",
       "      <td>1</td>\n",
       "      <td>14299</td>\n",
       "      <td>Creamy White Chili</td>\n",
       "      <td>sp_aUSaElGf_14299_c_424088</td>\n",
       "      <td>u_1oKVchl3LINh51liAWR6aZjJEqJ</td>\n",
       "      <td>jeanemed</td>\n",
       "      <td>20</td>\n",
       "      <td>1622718447</td>\n",
       "      <td>0</td>\n",
       "      <td>0</td>\n",
       "      <td>0</td>\n",
       "      <td>5</td>\n",
       "      <td>100</td>\n",
       "      <td>Very good. I wonder if it once had cream chees...</td>\n",
       "    </tr>\n",
       "  </tbody>\n",
       "</table>\n",
       "</div>"
      ]
     },
     "execution_count": 276,
     "metadata": {},
     "output_type": "execute_result"
    }
   ],
   "execution_count": 276
  },
  {
   "metadata": {
    "ExecuteTime": {
     "end_time": "2025-04-09T21:28:38.390027Z",
     "start_time": "2025-04-09T21:28:38.383077Z"
    }
   },
   "cell_type": "code",
   "source": [
    "# Map user and recipe ids to unique integer indices (for embeddings)\n",
    "user_ids = df['user_id'].unique().tolist()\n",
    "recipe_ids = df['recipe_code'].unique().tolist()\n",
    "\n",
    "user_to_index = {user: idx for idx, user in enumerate(user_ids)}\n",
    "recipe_to_index = {recipe: idx for idx, recipe in enumerate(recipe_ids)}\n",
    "\n",
    "df['user_idx'] = df['user_id'].map(user_to_index)\n",
    "df['recipe_idx'] = df['recipe_code'].map(recipe_to_index)\n",
    "\n",
    "num_users = len(user_ids)\n",
    "num_recipes = len(recipe_ids)\n",
    "\n",
    "print(f\"Number of users: {num_users}\")\n",
    "print(f\"Number of recipes: {num_recipes}\")\n",
    "\n",
    "# Split the data into training and test sets\n",
    "train_df, test_df = train_test_split(df, test_size=0.2, random_state=42)\n"
   ],
   "id": "52f25e477886ecd2",
   "outputs": [
    {
     "name": "stdout",
     "output_type": "stream",
     "text": [
      "Number of users: 274\n",
      "Number of recipes: 100\n"
     ]
    }
   ],
   "execution_count": 277
  },
  {
   "metadata": {
    "ExecuteTime": {
     "end_time": "2025-04-09T21:28:38.409354Z",
     "start_time": "2025-04-09T21:28:38.405734Z"
    }
   },
   "cell_type": "code",
   "source": [
    "class RecipeRatingDataset(Dataset):\n",
    "    def __init__(self, df):\n",
    "        self.users = df['user_idx'].values\n",
    "        self.recipes = df['recipe_idx'].values\n",
    "        self.ratings = df['stars'].values.astype(np.float32)\n",
    "\n",
    "    def __len__(self):\n",
    "        return len(self.ratings)\n",
    "\n",
    "    def __getitem__(self, idx):\n",
    "        return {\n",
    "            'user': torch.tensor(self.users[idx], dtype=torch.long),\n",
    "            'recipe': torch.tensor(self.recipes[idx], dtype=torch.long),\n",
    "            'rating': torch.tensor(self.ratings[idx], dtype=torch.float)\n",
    "        }\n",
    "\n",
    "# Create dataset objects\n",
    "train_dataset = RecipeRatingDataset(train_df)\n",
    "test_dataset = RecipeRatingDataset(test_df)\n",
    "\n",
    "# Create dataloaders\n",
    "train_loader = DataLoader(train_dataset, batch_size=64, shuffle=True)\n",
    "test_loader = DataLoader(test_dataset, batch_size=64)"
   ],
   "id": "d21acbe008592d39",
   "outputs": [],
   "execution_count": 278
  },
  {
   "metadata": {},
   "cell_type": "markdown",
   "source": "### Define the Model",
   "id": "d017c07bfc75ab42"
  },
  {
   "metadata": {
    "ExecuteTime": {
     "end_time": "2025-04-09T21:28:38.441400Z",
     "start_time": "2025-04-09T21:28:38.438414Z"
    }
   },
   "cell_type": "code",
   "source": [
    "class NCFModel(nn.Module):\n",
    "    def __init__(self, num_users, num_recipes, embedding_dim=50):\n",
    "        super(NCFModel, self).__init__()\n",
    "        self.user_embedding = nn.Embedding(num_users, embedding_dim)\n",
    "        self.recipe_embedding = nn.Embedding(num_recipes, embedding_dim)\n",
    "\n",
    "        self.fc1 = nn.Linear(embedding_dim * 2, 128)\n",
    "        self.dropout1 = nn.Dropout(0.2)\n",
    "        self.fc2 = nn.Linear(128, 64)\n",
    "        self.dropout2 = nn.Dropout(0.2)\n",
    "        self.fc3 = nn.Linear(64, 32)\n",
    "        self.output_layer = nn.Linear(32, 1)\n",
    "\n",
    "        self.relu = nn.ReLU()\n",
    "\n",
    "    def forward(self, user, recipe):\n",
    "        user_emb = self.user_embedding(user)\n",
    "        recipe_emb = self.recipe_embedding(recipe)\n",
    "        user_emb = user_emb.view(user_emb.size(0), -1)\n",
    "        recipe_emb = recipe_emb.view(recipe_emb.size(0), -1)\n",
    "\n",
    "        x = torch.cat([user_emb, recipe_emb], dim=1)\n",
    "        x = self.relu(self.fc1(x))\n",
    "        x = self.dropout1(x)\n",
    "        x = self.relu(self.fc2(x))\n",
    "        x = self.dropout2(x)\n",
    "        x = self.relu(self.fc3(x))\n",
    "        # Apply scaled sigmoid: output between 1 and 5\n",
    "        x = 1 + 4 * torch.sigmoid(self.output_layer(x))\n",
    "        return x.squeeze()"
   ],
   "id": "54cbf3e856a281b5",
   "outputs": [],
   "execution_count": 279
  },
  {
   "metadata": {
    "ExecuteTime": {
     "end_time": "2025-04-09T21:28:38.453713Z",
     "start_time": "2025-04-09T21:28:38.444873Z"
    }
   },
   "cell_type": "code",
   "source": [
    "# Set device\n",
    "device = torch.device(\"cuda\" if torch.cuda.is_available() else \"cpu\")\n",
    "\n",
    "# Instantiate the model\n",
    "model = NCFModel(num_users=num_users, num_recipes=num_recipes, embedding_dim=50)\n",
    "model.to(device)\n",
    "\n",
    "# Define loss and optimizer\n",
    "criterion = nn.MSELoss()\n",
    "optimizer = optim.Adam(model.parameters(), lr=0.001)\n",
    "\n",
    "print(model)"
   ],
   "id": "b2df942069ef5787",
   "outputs": [
    {
     "name": "stdout",
     "output_type": "stream",
     "text": [
      "NCFModel(\n",
      "  (user_embedding): Embedding(274, 50)\n",
      "  (recipe_embedding): Embedding(100, 50)\n",
      "  (fc1): Linear(in_features=100, out_features=128, bias=True)\n",
      "  (dropout1): Dropout(p=0.2, inplace=False)\n",
      "  (fc2): Linear(in_features=128, out_features=64, bias=True)\n",
      "  (dropout2): Dropout(p=0.2, inplace=False)\n",
      "  (fc3): Linear(in_features=64, out_features=32, bias=True)\n",
      "  (output_layer): Linear(in_features=32, out_features=1, bias=True)\n",
      "  (relu): ReLU()\n",
      ")\n"
     ]
    }
   ],
   "execution_count": 280
  },
  {
   "metadata": {},
   "cell_type": "markdown",
   "source": "### Train the Model and Evaluate",
   "id": "f42a7f8b682e5fb2"
  },
  {
   "metadata": {
    "ExecuteTime": {
     "end_time": "2025-04-09T21:28:40.877018Z",
     "start_time": "2025-04-09T21:28:38.467533Z"
    }
   },
   "cell_type": "code",
   "source": [
    "n_epochs = 100\n",
    "train_losses = []\n",
    "test_losses = []\n",
    "\n",
    "for epoch in range(n_epochs):\n",
    "    model.train()\n",
    "    epoch_loss = 0\n",
    "    for batch in train_loader:\n",
    "        user = batch['user'].to(device)\n",
    "        recipe = batch['recipe'].to(device)\n",
    "        rating = batch['rating'].to(device)\n",
    "\n",
    "        optimizer.zero_grad()\n",
    "        outputs = model(user, recipe)\n",
    "        loss = criterion(outputs, rating)\n",
    "        loss.backward()\n",
    "        optimizer.step()\n",
    "        epoch_loss += loss.item()\n",
    "\n",
    "    avg_train_loss = epoch_loss / len(train_loader)\n",
    "    train_losses.append(avg_train_loss)\n",
    "\n",
    "    # Evaluate on test set\n",
    "    model.eval()\n",
    "    test_loss = 0\n",
    "    with torch.no_grad():\n",
    "        for batch in test_loader:\n",
    "            user = batch['user'].to(device)\n",
    "            recipe = batch['recipe'].to(device)\n",
    "            rating = batch['rating'].to(device)\n",
    "\n",
    "            outputs = model(user, recipe)\n",
    "            loss = criterion(outputs, rating)\n",
    "            test_loss += loss.item()\n",
    "\n",
    "    avg_test_loss = test_loss / len(test_loader)\n",
    "    test_losses.append(avg_test_loss)\n",
    "\n",
    "    print(f\"Epoch {epoch+1}/{n_epochs} - Train Loss: {avg_train_loss:.4f}, Test Loss: {avg_test_loss:.4f}\")\n",
    "\n",
    "\n",
    "# make epoch list for plotting\n",
    "epochs = list(range(len(train_losses)))\n",
    "\n",
    "# create df\n",
    "df_loss = pd.DataFrame({\n",
    "    'Epoch': epochs,\n",
    "    'Train Loss': train_losses,\n",
    "    'Test Loss': test_losses\n",
    "})\n",
    "\n",
    "# reformat for seaborn\n",
    "df_long = df_loss.melt('Epoch', var_name='Loss Type', value_name='MSE Loss')\n",
    "\n",
    "palette = {'Train Loss': 'blue', 'Test Loss': 'pink'}\n",
    "\n",
    "plt.figure(figsize=(6.5, 5))\n",
    "sns.set_theme(style=\"darkgrid\")\n",
    "plt.ylim(0,2.5)\n",
    "sns.lineplot(data=df_long, x='Epoch', y='MSE Loss', hue='Loss Type', palette=palette)\n",
    "plt.title(\"Training and Test Loss Over Epochs - Minimum Ratings Per User = 5\")\n",
    "plt.grid(True)\n",
    "plt.tight_layout()\n",
    "plt.show()\n",
    "plt.savefig(\"Figures/MLP_V2_convergence_users5.png\")"
   ],
   "id": "10e48d577ae4cb9b",
   "outputs": [
    {
     "name": "stdout",
     "output_type": "stream",
     "text": [
      "Epoch 1/100 - Train Loss: 1.9167, Test Loss: 0.9355\n",
      "Epoch 2/100 - Train Loss: 1.0154, Test Loss: 0.9203\n",
      "Epoch 3/100 - Train Loss: 0.9110, Test Loss: 0.8972\n",
      "Epoch 4/100 - Train Loss: 0.8469, Test Loss: 0.8900\n",
      "Epoch 5/100 - Train Loss: 0.7901, Test Loss: 0.8824\n",
      "Epoch 6/100 - Train Loss: 0.7553, Test Loss: 0.8738\n",
      "Epoch 7/100 - Train Loss: 0.7054, Test Loss: 0.8833\n",
      "Epoch 8/100 - Train Loss: 0.6673, Test Loss: 0.8710\n",
      "Epoch 9/100 - Train Loss: 0.6261, Test Loss: 0.8708\n",
      "Epoch 10/100 - Train Loss: 0.5900, Test Loss: 0.8727\n",
      "Epoch 11/100 - Train Loss: 0.5533, Test Loss: 0.8508\n",
      "Epoch 12/100 - Train Loss: 0.5149, Test Loss: 0.8285\n",
      "Epoch 13/100 - Train Loss: 0.4651, Test Loss: 0.8203\n",
      "Epoch 14/100 - Train Loss: 0.4187, Test Loss: 0.8162\n",
      "Epoch 15/100 - Train Loss: 0.3676, Test Loss: 0.8534\n",
      "Epoch 16/100 - Train Loss: 0.3151, Test Loss: 0.8569\n",
      "Epoch 17/100 - Train Loss: 0.2747, Test Loss: 0.8306\n",
      "Epoch 18/100 - Train Loss: 0.2551, Test Loss: 0.8411\n",
      "Epoch 19/100 - Train Loss: 0.2284, Test Loss: 0.8322\n",
      "Epoch 20/100 - Train Loss: 0.2158, Test Loss: 0.8019\n",
      "Epoch 21/100 - Train Loss: 0.2108, Test Loss: 0.8183\n",
      "Epoch 22/100 - Train Loss: 0.1978, Test Loss: 0.8270\n",
      "Epoch 23/100 - Train Loss: 0.1820, Test Loss: 0.8311\n",
      "Epoch 24/100 - Train Loss: 0.1800, Test Loss: 0.8192\n",
      "Epoch 25/100 - Train Loss: 0.1622, Test Loss: 0.7981\n",
      "Epoch 26/100 - Train Loss: 0.1625, Test Loss: 0.8003\n",
      "Epoch 27/100 - Train Loss: 0.1499, Test Loss: 0.8386\n",
      "Epoch 28/100 - Train Loss: 0.1463, Test Loss: 0.8126\n",
      "Epoch 29/100 - Train Loss: 0.1564, Test Loss: 0.8080\n",
      "Epoch 30/100 - Train Loss: 0.1504, Test Loss: 0.8416\n",
      "Epoch 31/100 - Train Loss: 0.1417, Test Loss: 0.8272\n",
      "Epoch 32/100 - Train Loss: 0.1403, Test Loss: 0.8140\n",
      "Epoch 33/100 - Train Loss: 0.1419, Test Loss: 0.8133\n",
      "Epoch 34/100 - Train Loss: 0.1283, Test Loss: 0.8392\n",
      "Epoch 35/100 - Train Loss: 0.1261, Test Loss: 0.8643\n",
      "Epoch 36/100 - Train Loss: 0.1265, Test Loss: 0.8555\n",
      "Epoch 37/100 - Train Loss: 0.1137, Test Loss: 0.8565\n",
      "Epoch 38/100 - Train Loss: 0.1185, Test Loss: 0.8520\n",
      "Epoch 39/100 - Train Loss: 0.1094, Test Loss: 0.8385\n",
      "Epoch 40/100 - Train Loss: 0.1102, Test Loss: 0.8501\n",
      "Epoch 41/100 - Train Loss: 0.1109, Test Loss: 0.8389\n",
      "Epoch 42/100 - Train Loss: 0.1027, Test Loss: 0.8265\n",
      "Epoch 43/100 - Train Loss: 0.1130, Test Loss: 0.8605\n",
      "Epoch 44/100 - Train Loss: 0.1111, Test Loss: 0.8582\n",
      "Epoch 45/100 - Train Loss: 0.1030, Test Loss: 0.8752\n",
      "Epoch 46/100 - Train Loss: 0.1018, Test Loss: 0.8518\n",
      "Epoch 47/100 - Train Loss: 0.0999, Test Loss: 0.8697\n",
      "Epoch 48/100 - Train Loss: 0.0980, Test Loss: 0.8682\n",
      "Epoch 49/100 - Train Loss: 0.0976, Test Loss: 0.8613\n",
      "Epoch 50/100 - Train Loss: 0.0929, Test Loss: 0.8440\n",
      "Epoch 51/100 - Train Loss: 0.0932, Test Loss: 0.8356\n",
      "Epoch 52/100 - Train Loss: 0.0908, Test Loss: 0.8232\n",
      "Epoch 53/100 - Train Loss: 0.0853, Test Loss: 0.8327\n",
      "Epoch 54/100 - Train Loss: 0.0842, Test Loss: 0.8189\n",
      "Epoch 55/100 - Train Loss: 0.0818, Test Loss: 0.8322\n",
      "Epoch 56/100 - Train Loss: 0.0929, Test Loss: 0.8352\n",
      "Epoch 57/100 - Train Loss: 0.0884, Test Loss: 0.8434\n",
      "Epoch 58/100 - Train Loss: 0.0849, Test Loss: 0.8465\n",
      "Epoch 59/100 - Train Loss: 0.0831, Test Loss: 0.8222\n",
      "Epoch 60/100 - Train Loss: 0.0813, Test Loss: 0.8479\n",
      "Epoch 61/100 - Train Loss: 0.0827, Test Loss: 0.8803\n",
      "Epoch 62/100 - Train Loss: 0.0812, Test Loss: 0.8648\n",
      "Epoch 63/100 - Train Loss: 0.0772, Test Loss: 0.8496\n",
      "Epoch 64/100 - Train Loss: 0.0794, Test Loss: 0.8528\n",
      "Epoch 65/100 - Train Loss: 0.0788, Test Loss: 0.8509\n",
      "Epoch 66/100 - Train Loss: 0.0780, Test Loss: 0.8593\n",
      "Epoch 67/100 - Train Loss: 0.0776, Test Loss: 0.8441\n",
      "Epoch 68/100 - Train Loss: 0.0766, Test Loss: 0.8518\n",
      "Epoch 69/100 - Train Loss: 0.0726, Test Loss: 0.8602\n",
      "Epoch 70/100 - Train Loss: 0.0743, Test Loss: 0.8561\n",
      "Epoch 71/100 - Train Loss: 0.0746, Test Loss: 0.8392\n",
      "Epoch 72/100 - Train Loss: 0.0902, Test Loss: 0.8697\n",
      "Epoch 73/100 - Train Loss: 0.0783, Test Loss: 0.8343\n",
      "Epoch 74/100 - Train Loss: 0.0720, Test Loss: 0.8273\n",
      "Epoch 75/100 - Train Loss: 0.0725, Test Loss: 0.8200\n",
      "Epoch 76/100 - Train Loss: 0.0691, Test Loss: 0.8260\n",
      "Epoch 77/100 - Train Loss: 0.0721, Test Loss: 0.8130\n",
      "Epoch 78/100 - Train Loss: 0.0684, Test Loss: 0.8213\n",
      "Epoch 79/100 - Train Loss: 0.0649, Test Loss: 0.8182\n",
      "Epoch 80/100 - Train Loss: 0.0673, Test Loss: 0.8252\n",
      "Epoch 81/100 - Train Loss: 0.0707, Test Loss: 0.8208\n",
      "Epoch 82/100 - Train Loss: 0.0668, Test Loss: 0.8086\n",
      "Epoch 83/100 - Train Loss: 0.0634, Test Loss: 0.7979\n",
      "Epoch 84/100 - Train Loss: 0.0615, Test Loss: 0.8126\n",
      "Epoch 85/100 - Train Loss: 0.0636, Test Loss: 0.8189\n",
      "Epoch 86/100 - Train Loss: 0.0623, Test Loss: 0.8121\n",
      "Epoch 87/100 - Train Loss: 0.0622, Test Loss: 0.8258\n",
      "Epoch 88/100 - Train Loss: 0.0635, Test Loss: 0.8127\n",
      "Epoch 89/100 - Train Loss: 0.0626, Test Loss: 0.8140\n",
      "Epoch 90/100 - Train Loss: 0.0631, Test Loss: 0.8361\n",
      "Epoch 91/100 - Train Loss: 0.0646, Test Loss: 0.8163\n",
      "Epoch 92/100 - Train Loss: 0.0605, Test Loss: 0.8261\n",
      "Epoch 93/100 - Train Loss: 0.0637, Test Loss: 0.8123\n",
      "Epoch 94/100 - Train Loss: 0.0598, Test Loss: 0.7969\n",
      "Epoch 95/100 - Train Loss: 0.0610, Test Loss: 0.7966\n",
      "Epoch 96/100 - Train Loss: 0.0609, Test Loss: 0.8323\n",
      "Epoch 97/100 - Train Loss: 0.0670, Test Loss: 0.8528\n",
      "Epoch 98/100 - Train Loss: 0.0589, Test Loss: 0.8482\n",
      "Epoch 99/100 - Train Loss: 0.0597, Test Loss: 0.8528\n",
      "Epoch 100/100 - Train Loss: 0.0582, Test Loss: 0.8537\n"
     ]
    },
    {
     "data": {
      "text/plain": [
       "<Figure size 650x500 with 1 Axes>"
      ],
      "image/png": "[encoded data removed]"
     },
     "metadata": {},
     "output_type": "display_data"
    },
    {
     "data": {
      "text/plain": [
       "<Figure size 640x480 with 0 Axes>"
      ]
     },
     "metadata": {},
     "output_type": "display_data"
    }
   ],
   "execution_count": 281
  },
  {
   "metadata": {},
   "cell_type": "markdown",
   "source": "### Recommendation Functionality",
   "id": "33734d96892ab09"
  },
  {
   "metadata": {
    "ExecuteTime": {
     "end_time": "2025-04-09T21:28:40.896599Z",
     "start_time": "2025-04-09T21:28:40.892024Z"
    }
   },
   "cell_type": "code",
   "source": [
    "def recommend_recipes(model, user_identifier, df, top_n=5):\n",
    "    \"\"\"\n",
    "    Recommend top_n recipes for a given user identifier (user_id or user_name) by\n",
    "    referencing the original DataFrame to derive necessary mappings.\n",
    "\n",
    "    Returns:\n",
    "        A list of tuples: (recipe_id, recipe_name, predicted_rating)\n",
    "    \"\"\"\n",
    "    # set user for testing purposes\n",
    "    if user_identifier == None or user_identifier == \"\":\n",
    "        user_identifier = \"ahmom\"\n",
    "    # find if the id is a user_id or user_name\n",
    "    if user_identifier in df['user_id'].unique():\n",
    "        user_id = user_identifier\n",
    "    elif 'user_name' in df.columns and user_identifier in df['user_name'].unique():\n",
    "        user_id = df.loc[df['user_name'] == user_identifier, 'user_id'].iloc[0]\n",
    "    else:\n",
    "        print(\"User identifier not found in the data.\")\n",
    "        return []\n",
    "\n",
    "    # build any necessary mappings\n",
    "    user_to_index = {u: i for i, u in enumerate(df['user_id'].unique())}\n",
    "    recipe_to_index = {r: i for i, r in enumerate(df['recipe_code'].unique())}\n",
    "    index_to_recipe = {i: r for r, i in recipe_to_index.items()}\n",
    "\n",
    "    # build system to get recipe name from the recipe code\n",
    "    if 'recipe_name' in df.columns:\n",
    "        recipe_id_to_name = df.drop_duplicates(subset=['recipe_code']).set_index('recipe_code')['recipe_name'].to_dict()\n",
    "    else:\n",
    "        recipe_id_to_name = {r: str(r) for r in df['recipe_id'].unique()}\n",
    "\n",
    "    # check user exists\n",
    "    if user_id not in user_to_index:\n",
    "        print(\"User id not found in mapping.\")\n",
    "        return []\n",
    "\n",
    "    user_idx = user_to_index[user_id]\n",
    "\n",
    "    # Prep recipe indices and the user index\n",
    "    all_recipe_indices = torch.arange(len(recipe_to_index)).to(device)\n",
    "    user_tensor = torch.full((all_recipe_indices.shape[0],), user_idx, dtype=torch.long).to(device)\n",
    "\n",
    "    model.eval()\n",
    "    with torch.no_grad():\n",
    "        predictions = model(user_tensor, all_recipe_indices).cpu().numpy()\n",
    "\n",
    "    # top_n highest predicted ratings\n",
    "    top_indices = np.argsort(predictions)[-top_n:][::-1]\n",
    "\n",
    "    recipe_codes = []\n",
    "    recipe_names = []\n",
    "    predicted_ratings = []\n",
    "\n",
    "    for idx in top_indices:\n",
    "        rec_recipe_code = index_to_recipe.get(idx, \"Unknown\")\n",
    "        rec_recipe_name = recipe_id_to_name.get(rec_recipe_code, \"Unknown\")\n",
    "        rec_rating = predictions[idx]\n",
    "        recipe_codes.append(rec_recipe_code)\n",
    "        recipe_names.append(rec_recipe_name)\n",
    "        predicted_ratings.append(rec_rating)\n",
    "\n",
    "    result_df = pd.DataFrame({\n",
    "        'user_id': [user_id] * len(recipe_codes),\n",
    "        'user_name': [user_identifier] * len(recipe_codes),\n",
    "        'recipe_code': recipe_codes,\n",
    "        'recipe_name': recipe_names,\n",
    "        'predicted_rating': predicted_ratings\n",
    "    })\n",
    "\n",
    "    return result_df\n"
   ],
   "id": "51588c85f19bf0ce",
   "outputs": [],
   "execution_count": 282
  },
  {
   "metadata": {
    "ExecuteTime": {
     "end_time": "2025-04-09T21:30:42.568958Z",
     "start_time": "2025-04-09T21:30:42.340192Z"
    }
   },
   "cell_type": "code",
   "source": [
    "# save data table of all top 5 predictions for website\n",
    "results = []\n",
    "for user_name in df['user_name'].unique():\n",
    "    results.append(recommend_recipes(model, user_name, df))\n",
    "\n",
    "results_df = pd.concat(results)\n",
    "results_df.to_csv(\"results_df_MLP.csv\", index=False)"
   ],
   "id": "88bdbb9cea0ca96e",
   "outputs": [],
   "execution_count": 287
  },
  {
   "metadata": {},
   "cell_type": "markdown",
   "source": "### Comparison to CF Results",
   "id": "8216b935f5192ff1"
  },
  {
   "metadata": {
    "ExecuteTime": {
     "end_time": "2025-04-09T21:28:41.229637Z",
     "start_time": "2025-04-09T21:28:41.200164Z"
    }
   },
   "cell_type": "code",
   "source": [
    "def compute_test_errors(model, test_dataset, device='cpu'):\n",
    "    \"\"\"\n",
    "    Calcs predictions and absolute errors for each item in the test dataset.\n",
    "\n",
    "    Parameters:\n",
    "        model (nn.Module): The trained neural network model.\n",
    "        test_dataset (Dataset): An instance of RecipeRatingDataset.\n",
    "        device (str): Device to perform inference on ('cpu' or 'cuda').\n",
    "\n",
    "    Returns:\n",
    "        pd.DataFrame: DataFrame containing predictions and error metrics.\n",
    "    \"\"\"\n",
    "    model.eval()\n",
    "    predictions = []\n",
    "    errors = []\n",
    "\n",
    "    # iterate over the dataset using __getitem__ method\n",
    "    with torch.no_grad():\n",
    "        for i in range(len(test_dataset)):\n",
    "            # loop through test data and calculate error\n",
    "            sample = test_dataset[i]\n",
    "            user_tensor = sample['user'].unsqueeze(0).to(device)    # shape: (1,)\n",
    "            recipe_tensor = sample['recipe'].unsqueeze(0).to(device)  # shape: (1,)\n",
    "\n",
    "            # compute prediction from model\n",
    "            pred = model(user_tensor, recipe_tensor)\n",
    "            pred_value = pred.item()\n",
    "            predictions.append(pred_value)\n",
    "\n",
    "            # compare to true rating\n",
    "            true_rating = sample['rating'].item() if isinstance(sample['rating'], torch.Tensor) else float(sample['rating'])\n",
    "            errors.append(pred_value - true_rating)\n",
    "\n",
    "    df_results = pd.DataFrame({\n",
    "        'user_idx': test_dataset.users,\n",
    "        'recipe_idx': test_dataset.recipes,\n",
    "        'true_rating': test_dataset.ratings,\n",
    "        'prediction': predictions,\n",
    "        'error': errors\n",
    "    })\n",
    "\n",
    "    return df_results\n",
    "\n",
    "mlp_errors = compute_test_errors(model, test_dataset, device='cpu')\n",
    "print(mlp_errors)"
   ],
   "id": "c6607ba55704081b",
   "outputs": [
    {
     "name": "stdout",
     "output_type": "stream",
     "text": [
      "     user_idx  recipe_idx  true_rating  prediction     error\n",
      "0          53           0          5.0    4.972584 -0.027416\n",
      "1         124           6          5.0    4.999050 -0.000950\n",
      "2         116          61          4.0    3.665649 -0.334351\n",
      "3         187          46          0.0    4.977295  4.977295\n",
      "4          25           4          4.0    4.980578  0.980578\n",
      "..        ...         ...          ...         ...       ...\n",
      "423       124          30          5.0    4.999422 -0.000578\n",
      "424       156          74          4.0    4.999962  0.999962\n",
      "425        78          37          5.0    4.985038 -0.014962\n",
      "426        96           5          5.0    4.989261 -0.010739\n",
      "427        67          30          5.0    4.999646 -0.000354\n",
      "\n",
      "[428 rows x 5 columns]\n"
     ]
    }
   ],
   "execution_count": 284
  },
  {
   "metadata": {
    "ExecuteTime": {
     "end_time": "2025-04-09T21:28:41.246660Z",
     "start_time": "2025-04-09T21:28:41.237043Z"
    }
   },
   "cell_type": "code",
   "source": [
    "# load in Cf errors\n",
    "cf_errors = pd.read_csv('CF_errors.csv')\n",
    "cf_errors.head()\n",
    "print(cf_errors.describe())\n",
    "print(mlp_errors.describe())"
   ],
   "id": "1c9084c8d4c827f4",
   "outputs": [
    {
     "name": "stdout",
     "output_type": "stream",
     "text": [
      "       Unnamed: 0  error_user  error_item\n",
      "count  702.000000  702.000000  702.000000\n",
      "mean   351.500000   -0.656437   -0.020302\n",
      "std    202.794231    0.900129    1.048028\n",
      "min      1.000000   -1.788088   -5.000000\n",
      "25%    176.250000   -1.000000   -0.254317\n",
      "50%    351.500000   -1.000000    0.000000\n",
      "75%    526.750000   -0.509314    0.000000\n",
      "max    702.000000    4.401909    5.000000\n",
      "         user_idx  recipe_idx  true_rating  prediction       error\n",
      "count  428.000000  428.000000   428.000000  428.000000  428.000000\n",
      "mean   122.817757   40.642523     4.644860    4.745010    0.100150\n",
      "std     75.341405   30.643310     0.982301    0.539743    0.935497\n",
      "min      2.000000    0.000000     0.000000    1.002016   -3.275953\n",
      "25%     60.750000   11.000000     5.000000    4.780810   -0.039295\n",
      "50%    118.500000   37.500000     5.000000    4.988948   -0.003115\n",
      "75%    182.250000   66.000000     5.000000    4.998994   -0.000028\n",
      "max    272.000000   99.000000     5.000000    5.000000    4.999936\n"
     ]
    }
   ],
   "execution_count": 285
  },
  {
   "metadata": {
    "ExecuteTime": {
     "end_time": "2025-04-09T21:28:41.316736Z",
     "start_time": "2025-04-09T21:28:41.264376Z"
    }
   },
   "cell_type": "code",
   "source": [
    "# Add a column to identify the method\n",
    "mlp_errors['method'] = 'MLP'\n",
    "cf_errors['method'] = 'CF'\n",
    "cf_errors.rename(columns={'error_item': 'error'}, inplace=True)\n",
    "\n",
    "# concatenate the DataFrames\n",
    "combined_df = pd.concat([cf_errors[['error', 'method']], mlp_errors[['error', 'method']]])\n",
    "\n",
    "sns.set_theme(style=\"darkgrid\")\n",
    "\n",
    "# Create the boxplot\n",
    "plt.figure(figsize=(10, 5))\n",
    "sns.boxplot(data=combined_df, x='error', y='method', palette={'MLP': 'skyblue', 'CF': 'pink'})\n",
    "plt.title(\"Error Distribution Comparison: MLP vs. Collaborative Filtering\")\n",
    "plt.xlabel(\"Error\")\n",
    "plt.ylabel(\"Method\")\n",
    "plt.tight_layout()\n",
    "plt.show()\n",
    "plt.savefig('Figures/MLP_vs_Collaborative_Filtering.png')"
   ],
   "id": "124564d5c5b88a60",
   "outputs": [
    {
     "name": "stderr",
     "output_type": "stream",
     "text": [
      "/var/folders/_l/lwl4zghd2flbz38w_lkz9xn00000gn/T/ipykernel_18248/3939508689.py:13: FutureWarning: \n",
      "\n",
      "Passing `palette` without assigning `hue` is deprecated and will be removed in v0.14.0. Assign the `y` variable to `hue` and set `legend=False` for the same effect.\n",
      "\n",
      "  sns.boxplot(data=combined_df, x='error', y='method', palette={'MLP': 'skyblue', 'CF': 'pink'})\n"
     ]
    },
    {
     "data": {
      "text/plain": [
       "<Figure size 1000x500 with 1 Axes>"
      ],
      "image/png": "[encoded data removed]"
     },
     "metadata": {},
     "output_type": "display_data"
    },
    {
     "data": {
      "text/plain": [
       "<Figure size 640x480 with 0 Axes>"
      ]
     },
     "metadata": {},
     "output_type": "display_data"
    }
   ],
   "execution_count": 286
  },
  {
   "metadata": {},
   "cell_type": "markdown",
   "source": "While CF has a lower mean for the errors, the MLP much more consistently has low errors. Both models have quite a few outliers demonstrating that both need improvement.",
   "id": "f54ef99b86b473c9"
  }
 ],
 "metadata": {
  "kernelspec": {
   "display_name": "Python 3",
   "language": "python",
   "name": "python3"
  },
  "language_info": {
   "codemirror_mode": {
    "name": "ipython",
    "version": 2
   },
   "file_extension": ".py",
   "mimetype": "text/x-python",
   "name": "python",
   "nbconvert_exporter": "python",
   "pygments_lexer": "ipython2",
   "version": "2.7.6"
  }
 },
 "nbformat": 4,
 "nbformat_minor": 5
}
